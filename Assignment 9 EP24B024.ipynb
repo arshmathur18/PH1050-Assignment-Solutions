{
 "cells": [
  {
   "cell_type": "code",
   "execution_count": 13,
   "id": "11a620e7-b285-41ff-bf2b-dde89fb34a6d",
   "metadata": {},
   "outputs": [
    {
     "name": "stdout",
     "output_type": "stream",
     "text": [
      "[[-6  2  1  2  1]\n",
      " [ 3  8 -4  1  0]\n",
      " [-1  1  4 10  1]\n",
      " [ 3 -4  1  9  2]\n",
      " [ 2  0  1  3 10]]\n",
      "not diagonally dominant, on row number 1\n",
      "[[18  3  6 -3]\n",
      " [ 9 13 -5  2]\n",
      " [-3 -2  4  9]\n",
      " [ 6  0 11  3]]\n",
      "not diagonally dominant, on row number 2\n",
      "[1]\n"
     ]
    }
   ],
   "source": [
    "#question 1 \n",
    "import numpy as np\n",
    "A = np.array([[-6, 2 ,1 ,2 ,1],\n",
    "[3 ,8 ,-4 ,1 ,0],\n",
    "[-1, 1, 4 ,10, 1],\n",
    "[3, -4, 1, 9, 2],\n",
    "[2, 0 ,1 ,3, 10]])\n",
    "\n",
    "print(A)\n",
    "for i in range(len(A[0])):\n",
    "    row_sum = 0.0\n",
    "    for j in range(len(A[0])):\n",
    "        if i != j:\n",
    "            row_sum += abs(A[i][j])\n",
    "    if abs(A[i][i]) <= row_sum :\n",
    "        print(\"not diagonally dominant, on row number\",i+1)\n",
    "        break\n",
    "    else:\n",
    "        i = i + 1\n",
    "\n",
    "B=np.array([[18, 3 ,6, -3],\n",
    "[9, 13, -5 ,2],\n",
    "[-3 ,-2, 4, 9],\n",
    "[6 ,0 ,11, 3]])\n",
    "\n",
    "list1 = []\n",
    "print(B)\n",
    "for i in range(len(B[0])):\n",
    "    row_sum = 0.0\n",
    "    for j in range(len(B[0])):\n",
    "        if i != j:\n",
    "            row_sum += abs(B[i][j])\n",
    "\n",
    "    if abs(B[i][i]) >= row_sum :\n",
    "        i = i + 1\n",
    "        list1.append(i)\n",
    "    else:\n",
    "        print(\"not diagonally dominant, on row number\",i+1)\n",
    "        break\n",
    "if len(list1) == len(B[0]):\n",
    "    print(\"diagonally dominant\")\n"
   ]
  },
  {
   "cell_type": "code",
   "execution_count": 25,
   "id": "fc66720a-efb9-4e17-815d-95f4f835296c",
   "metadata": {},
   "outputs": [
    {
     "name": "stdout",
     "output_type": "stream",
     "text": [
      "not diagonally dominant, on row number 3\n",
      "[-1.1222592  -1.3890687  -4.24606829  1.49505402  0.30054246]\n"
     ]
    }
   ],
   "source": [
    "#question 2 : gauss siedel method \n",
    "import numpy as np\n",
    "a =np.array([[-6 ,2 ,1 ,2 ,1],\n",
    "[3 ,8 ,-4 ,1, 0],\n",
    "[-1 ,1, 4 ,10 ,1],\n",
    "[3 ,-4 ,1 ,9 ,2],\n",
    "[2 ,0 ,1 ,3, 10]])\n",
    "\n",
    "#checking for diagonal dominance\n",
    "for i in range(len(A[0])):\n",
    "    row_sum = 0.0\n",
    "    for j in range(len(A[0])):\n",
    "        if i != j:\n",
    "            row_sum += abs(A[i][j])\n",
    "\n",
    "    if abs(A[i][i]) >= row_sum :\n",
    "        i = i + 1\n",
    "    else:\n",
    "        print(\"not diagonally dominant, on row number\",i+1)\n",
    "        break\n",
    "        \n",
    "\n",
    "b = np.array([3, 4, -2, 12,1])\n",
    "\n",
    "# #need to create a matrix with 5 random elements. \n",
    "# soln = np.random.rand(len(b))\n",
    "\n",
    "# for n in range(10000):\n",
    "#     soln_old = np.copy(soln)\n",
    "#     for i in range(len(b)):\n",
    "#         soln[i] = b[i] \n",
    "#         for j in range(len(b)):\n",
    "#             if i != j:\n",
    "#                 soln[i] -= a[i][j]*soln[j]\n",
    "    \n",
    "#         soln[i] = soln[i]/(A[i][i])\n",
    "#         i = i + 1\n",
    "        \n",
    "#     if np.linalg.norm(soln - soln_old, ord=np.inf) < 0.0000001:\n",
    "#         print(f\"Converged after {n+1} iterations\")\n",
    "#         break\n",
    "#     n = n+1\n",
    "    \n",
    "\n",
    "\n",
    "for n in range(10000):\n",
    "    soln_old = np.copy(soln)\n",
    "    for i in range(len(b)):\n",
    "        soln[i] = b[i]\n",
    "        for j in range(len(b)):\n",
    "            if i != j:\n",
    "                soln[i] -= a[i][j]*soln[j]\n",
    "        \n",
    "        soln[i] = soln[i]/A[i,i]\n",
    "\n",
    "    if np.linalg.norm(soln - soln_old, ord=np.inf) < 0.:\n",
    "        break\n",
    "\n",
    "print(soln)"
   ]
  },
  {
   "cell_type": "code",
   "execution_count": 1,
   "id": "16365d58-10b6-4b72-812f-1a6a667b4eed",
   "metadata": {},
   "outputs": [
    {
     "name": "stdout",
     "output_type": "stream",
     "text": [
      "[[ 2.          3.         -2.        ]\n",
      " [ 0.          4.5        -3.        ]\n",
      " [ 0.          0.          5.33333333]]\n",
      "Solution vector x:\n",
      "[0.         1.41666667 1.125     ]\n"
     ]
    }
   ],
   "source": [
    "#question 3 - gauss elimination \n",
    "import numpy as np\n",
    "Z = np.array([[2 ,3, -2],\n",
    "[1, 6 ,-4],\n",
    "[4 ,-1 ,6]], dtype=float)\n",
    "\n",
    "Y =  np.array([ 2 ,4 ,6])\n",
    "\n",
    "p = len(Y)\n",
    "\n",
    "for n in range(p-1): \n",
    "    for i in range(n+1,p): \n",
    "        factor = Z[i][n] / Z[n][n]\n",
    "        Y[i] = Y[i] - factor * Y[n]\n",
    "        for j in range(n,p):\n",
    "            Z[i][j] = Z[i][j] - factor * Z[n][j]\n",
    "\n",
    "print(Z)\n",
    "# print(Y)\n",
    "\n",
    "#back substitution\n",
    "\n",
    "x = np.zeros(p)\n",
    "for i in range(p-1, -1, -1):  # Start from the last row\n",
    "    x[i] = (Y[i] - np.dot(Z[i, i+1:], x[i+1:])) / Z[i][i]\n",
    "\n",
    "print(\"Solution vector x:\")\n",
    "print(x)"
   ]
  },
  {
   "cell_type": "code",
   "execution_count": 2,
   "id": "f3c5c33e-8cbd-4e32-a0d7-1f029248e9f2",
   "metadata": {},
   "outputs": [
    {
     "name": "stdout",
     "output_type": "stream",
     "text": [
      "[-3.46410161513775, 3.46410161513775, 4.00000000000000]\n"
     ]
    }
   ],
   "source": [
    "import numpy as np\n",
    "from sympy import Symbol, Eq, solve, Matrix\n",
    "A =np.array([[1, 2, 3],\n",
    "[2 ,2 ,-2],\n",
    "[3 ,-2 ,1]])\n",
    "\n",
    "def det(A):\n",
    "    if len(A) == 1:\n",
    "        return A[0, 0]\n",
    "    if len(A) == 2:\n",
    "        return A[0, 0] * A[1, 1] - A[0, 1] * A[1, 0]\n",
    "    determinant = 0\n",
    "    for i in range(len(A[0])):\n",
    "        cofactor = A[0, i] * (-1) ** i\n",
    "        submatrix = np.delete(np.delete(A, 0, axis=0), i, axis=1) \n",
    "        determinant += cofactor * det(submatrix)\n",
    "    return determinant\n",
    "\n",
    "def eigenvalues(A):\n",
    "    x = Symbol('x')\n",
    "    identity = np.eye(A.shape[0])\n",
    "    A = A - x * identity\n",
    "    dett = det(A)\n",
    "    eigenvalues = solve(Eq(dett, 0), x)\n",
    "    return eigenvalues\n",
    "\n",
    "print(eigenvalues(A))"
   ]
  },
  {
   "cell_type": "code",
   "execution_count": 69,
   "id": "5a933c7f-5009-4a1c-89d6-3bf6b97bcbff",
   "metadata": {},
   "outputs": [
    {
     "name": "stdout",
     "output_type": "stream",
     "text": [
      "-48.00000000000001\n",
      "[ 2. -0.  0.]\n",
      "[[ 1  2  3]\n",
      " [ 0 -2 -8]\n",
      " [ 0  0 24]]\n",
      "[2. 0. 0.]\n"
     ]
    }
   ],
   "source": [
    "import numpy as np\n",
    "a =np.array([[1, 2, 3],\n",
    "[2 ,2 ,-2],\n",
    "[3 ,-2 ,1]])\n",
    "\n",
    "b = np.array([ 2 ,4 ,6])\n",
    "\n",
    "n = len(a)\n",
    "\n",
    "def operation(A,i,j,k):\n",
    "    A[i] = A[i] + k*A[j]\n",
    "    return A\n",
    "\n",
    "for j in range(n):\n",
    "    for i in range(j+1,n):\n",
    "        t = a[i,j]/a[j,j]\n",
    "        operation(a,i,j,-t)\n",
    "        operation(b,i,j,-t)\n",
    "\n",
    "soln = np.zeros(n)\n",
    "for i in range(n):\n",
    "    term = 0.0\n",
    "    for j in range(n):\n",
    "        if j != i :\n",
    "            term = term - a[n-i-1,j]*soln[j]\n",
    "        \n",
    "    soln[n-1-i] += (term + b[n-1-i])/a[n-1-i,n-1-i]\n",
    "    \n",
    "print(np.linalg.det(a))\n",
    "print(np.linalg.solve(a,b))\n",
    "print(a)\n",
    "print(soln)"
   ]
  },
  {
   "cell_type": "code",
   "execution_count": null,
   "id": "00061331-d53a-4f73-bbc3-17d793a3203d",
   "metadata": {},
   "outputs": [],
   "source": []
  }
 ],
 "metadata": {
  "kernelspec": {
   "display_name": "Python 3 (ipykernel)",
   "language": "python",
   "name": "python3"
  },
  "language_info": {
   "codemirror_mode": {
    "name": "ipython",
    "version": 3
   },
   "file_extension": ".py",
   "mimetype": "text/x-python",
   "name": "python",
   "nbconvert_exporter": "python",
   "pygments_lexer": "ipython3",
   "version": "3.12.4"
  }
 },
 "nbformat": 4,
 "nbformat_minor": 5
}
