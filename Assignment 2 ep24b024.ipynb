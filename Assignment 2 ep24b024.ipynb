{
 "cells": [
  {
   "cell_type": "code",
   "execution_count": 1,
   "id": "1603d71f-2445-4416-bc09-85849f7ddc45",
   "metadata": {},
   "outputs": [
    {
     "name": "stdin",
     "output_type": "stream",
     "text": [
      "Enter Number 1\n",
      "Enter Number 2\n",
      "Enter Number 3\n",
      "Enter Number 4\n",
      "Enter Number 5\n",
      "Enter Number 6\n",
      "Enter Number 7\n",
      "Enter Number 8\n",
      "Enter Number 9\n",
      "Enter Number -150\n"
     ]
    },
    {
     "name": "stdout",
     "output_type": "stream",
     "text": [
      "The greatest number is 9\n",
      "The smallest number is -150\n"
     ]
    }
   ],
   "source": [
    "#Question1 Create a list of 10 integer numbers and find the maximum and minimum numbers from that list, without using any Python module.\n",
    "i = 1\n",
    "mylist = []\n",
    "while i <=10:\n",
    "    number = int(input(\"Enter Number\"))\n",
    "    i = i + 1\n",
    "    mylist.append(number)\n",
    "\n",
    "print(\"The greatest number is\",max(mylist))\n",
    "print(\"The smallest number is\",min(mylist))"
   ]
  },
  {
   "cell_type": "code",
   "execution_count": 3,
   "id": "65ba4f35-9e98-4833-a7c4-5ccb08758734",
   "metadata": {},
   "outputs": [
    {
     "name": "stdout",
     "output_type": "stream",
     "text": [
      "51 2.220446049250313e-16\n"
     ]
    }
   ],
   "source": [
    "#Question 2 : accuracy of the machine \n",
    "\n",
    "s = 1 \n",
    "for i in range(1000): #how many times you want to run the loop. \n",
    "     s = s/2\n",
    "     t = s + 1.0\n",
    "     if t<= 1.:\n",
    "         s = 2.*s\n",
    "         print(i-1, s)\n",
    "         break"
   ]
  },
  {
   "cell_type": "code",
   "execution_count": 4,
   "id": "dae3bcfe-6b65-444a-b862-b2d7a4613992",
   "metadata": {},
   "outputs": [
    {
     "name": "stdin",
     "output_type": "stream",
     "text": [
      "Enter your number 1234\n"
     ]
    },
    {
     "name": "stdout",
     "output_type": "stream",
     "text": [
      "4321\n"
     ]
    }
   ],
   "source": [
    "#Question 3\n",
    "\n",
    "num = int(input(\"Enter your number\"))\n",
    "num = str(num)\n",
    "a = []\n",
    "n = len(num)\n",
    "for i in range(len(num)):\n",
    "    a.append(num[(n-1)-i])\n",
    "\n",
    "print(''.join(a))         "
   ]
  },
  {
   "cell_type": "code",
   "execution_count": 6,
   "id": "9c167e29-57cc-405a-bfae-673e8581856c",
   "metadata": {},
   "outputs": [
    {
     "name": "stdout",
     "output_type": "stream",
     "text": [
      "2\n",
      "3\n",
      "5\n",
      "7\n",
      "11\n",
      "13\n",
      "17\n",
      "19\n",
      "23\n",
      "29\n",
      "31\n",
      "37\n",
      "41\n",
      "43\n",
      "47\n",
      "53\n",
      "59\n",
      "61\n",
      "67\n",
      "71\n",
      "73\n",
      "79\n",
      "83\n",
      "89\n",
      "97\n"
     ]
    }
   ],
   "source": [
    "#Question4 : Prime Numbersss\n",
    "i = 2\n",
    "while i <= 100:\n",
    " for num in range(2,i):\n",
    "     \n",
    "     if i%num == 0:\n",
    "         break\n",
    " else: \n",
    "     print(i)\n",
    " i = i + 1           "
   ]
  },
  {
   "cell_type": "code",
   "execution_count": 11,
   "id": "85a9a247-10f9-4d52-92cc-e9c301fd060b",
   "metadata": {},
   "outputs": [
    {
     "name": "stdin",
     "output_type": "stream",
     "text": [
      "Enter 'x'  0.0001\n"
     ]
    },
    {
     "name": "stdout",
     "output_type": "stream",
     "text": [
      "4.999999969612645e-09\n"
     ]
    },
    {
     "name": "stdin",
     "output_type": "stream",
     "text": [
      "Enter 'y' 0.0001\n"
     ]
    },
    {
     "name": "stdout",
     "output_type": "stream",
     "text": [
      "4.9999999875e-09\n",
      "Error in method 1 3.5774709714307276e-09\n",
      "Error in method 2 3.577470958632429e-09\n"
     ]
    }
   ],
   "source": [
    "#Question 5\n",
    "\n",
    "import math\n",
    "\n",
    "def fn(x):\n",
    "    y = (math.sqrt(x**2 + 1) - 1)\n",
    "    return y\n",
    "\n",
    "def gn(x):\n",
    "    y = x**2/(math.sqrt(x**2 + 1)+1)\n",
    "    return y\n",
    "\n",
    "a = float(input(\"Enter 'x' \"))\n",
    "s = fn(a)\n",
    "print(s)\n",
    "\n",
    "b = float(input(\"Enter 'y'\"))\n",
    "d = gn(b)\n",
    "print(d)\n",
    "\n",
    "print(\"Error in method 1\",((d-s)/s))\n",
    "print(\"Error in method 2\",((d-s)/d))\n",
    "\n",
    "#The second method is superior because we do not lose information when subtracting two very small numbers. "
   ]
  },
  {
   "cell_type": "code",
   "execution_count": 4,
   "id": "725ae059-d17b-413d-bc1c-dffb90e24f7d",
   "metadata": {},
   "outputs": [
    {
     "name": "stdin",
     "output_type": "stream",
     "text": [
      "Enter power :  100\n"
     ]
    },
    {
     "name": "stdout",
     "output_type": "stream",
     "text": [
      "1.2625133380638541e-21\n",
      "-19241.901833166958\n"
     ]
    },
    {
     "data": {
      "image/png": "[encoded data removed]",
      "text/plain": [
       "<Figure size 640x480 with 1 Axes>"
      ]
     },
     "metadata": {},
     "output_type": "display_data"
    }
   ],
   "source": [
    "#Question 6\n",
    "\n",
    "import math\n",
    "import matplotlib.pyplot as plt\n",
    "import numpy as np\n",
    "import matplotlib as mpl\n",
    "\n",
    "def f(x):\n",
    "    y = ((math.sqrt(5) - 1)/2)**x\n",
    "    return y\n",
    "\n",
    "def g(x):\n",
    "    if x == 0:\n",
    "        return f(0)  \n",
    "    \n",
    "    a = f(1)  \n",
    "    b = f(0)  \n",
    "    c = b - a  \n",
    "    \n",
    "    for i in range(1, x):\n",
    "        c = b - a\n",
    "        b = a\n",
    "        a = c\n",
    "    \n",
    "    return c\n",
    "\n",
    "\n",
    "+\n",
    "def h(x):\n",
    "    Error = f(x) - g(x)\n",
    "    return Error\n",
    "\n",
    "\n",
    "#main console\n",
    "\n",
    "plt.figure()\n",
    "\n",
    "a = int(input(\"Enter power : \"))\n",
    "s = f(a)\n",
    "print(s)\n",
    "\n",
    "# b = int(input(\"Enter 'y'\"))\n",
    "d = g(a)\n",
    "print(d)\n",
    "\n",
    "t = []\n",
    "for n in range(1,51):\n",
    "    error = h(n)\n",
    "    if error<0:\n",
    "        error=(-1)*error\n",
    "    t.append(error)\n",
    "    n = n+1\n",
    "\n",
    "del t[0]\n",
    "\n",
    "y = np.arange(1,50,1)\n",
    "# print(t)\n",
    "plt.plot(y,t)\n",
    "plt.show()"
   ]
  },
  {
   "cell_type": "code",
   "execution_count": 95,
   "id": "add1f386-5271-487e-991c-0d54d058da66",
   "metadata": {},
   "outputs": [
    {
     "name": "stdin",
     "output_type": "stream",
     "text": [
      "Enter 'x'  50\n"
     ]
    },
    {
     "name": "stdout",
     "output_type": "stream",
     "text": [
      "1.3929555690985346e-24\n"
     ]
    },
    {
     "name": "stdin",
     "output_type": "stream",
     "text": [
      "Enter 'y' 50\n"
     ]
    },
    {
     "name": "stdout",
     "output_type": "stream",
     "text": [
      "-15693420223767.973\n"
     ]
    },
    {
     "data": {
      "text/plain": [
       "[<matplotlib.lines.Line2D at 0x7ccaec1d4e00>]"
      ]
     },
     "execution_count": 95,
     "metadata": {},
     "output_type": "execute_result"
    },
    {
     "data": {
      "image/png": "[encoded data removed]",
      "text/plain": [
       "<Figure size 640x480 with 1 Axes>"
      ]
     },
     "metadata": {},
     "output_type": "display_data"
    }
   ],
   "source": [
    "#Question 7\n",
    "\n",
    "import math\n",
    "import matplotlib.pyplot as plt\n",
    "import numpy as np\n",
    "import matplotlib as mpl\n",
    "\n",
    "def f(x):\n",
    "    y = (1/3)**x\n",
    "    return y\n",
    "\n",
    "\n",
    "i = 1\n",
    "def g(x):\n",
    "\n",
    "    a = f(1)\n",
    "    b = f(0) \n",
    "\n",
    "    if x == 0:\n",
    "        return b  # Since g(0) should be f(0)\n",
    "    c = ((13/3)*a - (4/3)*b)\n",
    "    for i in range(1,x):\n",
    "            c = ((13/3)*a - (4/3)*b)\n",
    "            b = a\n",
    "            a = c\n",
    "            i = i+1\n",
    "    return c\n",
    "\n",
    "# def h(x):\n",
    "#     Error = f(x) - g(x)\n",
    "#     return Error\n",
    "\n",
    "k = int(input(\"Enter 'x' \"))\n",
    "s = f(k)\n",
    "print(s)\n",
    "    \n",
    "l = int(input(\"Enter 'y'\"))\n",
    "d = g(l)\n",
    "print(d)\n",
    "\n",
    "#print(\"Error\",s-d)\n",
    "#plot error as a function of power. \n",
    "\n",
    "plt.figure()\n",
    "\n",
    "t = []\n",
    "for n in range(1,51):\n",
    "    error = h(n)\n",
    "    if error<0:\n",
    "        error=(-1)*error\n",
    "    t.append(error)\n",
    "    n = n+1\n",
    "\n",
    "del t[0]\n",
    "\n",
    "y = np.arange(1,50,1)\n",
    "\n",
    "plt.plot(y,t)\n",
    "plt.show()\n",
    "`"
   ]
  },
  {
   "cell_type": "code",
   "execution_count": 79,
   "id": "e0b68088-3d6c-49c8-a006-68bfa4fa4619",
   "metadata": {},
   "outputs": [
    {
     "name": "stdout",
     "output_type": "stream",
     "text": [
      "-7.431385965330528e-06\n",
      "-7.431405265378999e-06\n",
      "Error 1.9300048470743784e-11\n",
      "-7.431488484144211e-06\n",
      "-7.431488484144211e-06\n",
      "Error 0.0\n"
     ]
    }
   ],
   "source": [
    "#Question 8\n",
    "\n",
    "x = [ 2.718281823, -3.141592654, 1.414213562, 0.5772156649, 0.3010299957]\n",
    "y = [1486.2497, 878366.9879, -22.37492, 4773714.647, 0.000185049 ]\n",
    "s=0\n",
    "for i in range(0,5):\n",
    "    s += (x[i]*y[i]) #what does += do?!?\n",
    "\n",
    "print(s)\n",
    "\n",
    "d=0\n",
    "for i in range(-1,-6,-1):\n",
    "    d += (x[i]*y[i]) #what does += do?!?\n",
    "\n",
    "print(d)\n",
    "\n",
    "print(\"Error\",s-d)\n",
    "\n",
    "a = []\n",
    "for i in range(0,5):\n",
    "    s = (x[i]*y[i])\n",
    "    a.append(s)\n",
    "    i = i + 1\n",
    "\n",
    "\n",
    "e = 0\n",
    "for i in range(len(a)):\n",
    "    c = max(a)\n",
    "    e += c\n",
    "    a.remove(c)\n",
    "\n",
    "print(e)\n",
    "\n",
    "a = []\n",
    "for i in range(0,5):\n",
    "    s = (x[i]*y[i])\n",
    "    a.append(s)\n",
    "    i = i + 1\n",
    "\n",
    "g = 0\n",
    "for i in range(len(a)):\n",
    "    f = min(a)\n",
    "    g += f\n",
    "    a.remove(f)\n",
    "    \n",
    "print(g)\n",
    "\n",
    "print(\"Error\",g-e)"
   ]
  },
  {
   "cell_type": "code",
   "execution_count": null,
   "id": "74d53ea5-7e15-484d-b95b-e33ff7a791fe",
   "metadata": {},
   "outputs": [
    {
     "name": "stdin",
     "output_type": "stream",
     "text": [
      " 10\n"
     ]
    }
   ],
   "source": [
    "#prime numbers\n",
    "\n",
    "\n",
    "i = 2\n",
    "def prime(x):\n",
    "    while i < x:\n",
    "        for n in range(2,i):\n",
    "            if i%n == 0:\n",
    "                break\n",
    "            else: print(i)\n",
    "\n",
    "n = int(input())\n",
    "k = prime(n)\n",
    "print(k)"
   ]
  },
  {
   "cell_type": "code",
   "execution_count": null,
   "id": "bc79a045-6fc5-431e-8206-f768e93f2296",
   "metadata": {},
   "outputs": [],
   "source": []
  }
 ],
 "metadata": {
  "kernelspec": {
   "display_name": "Python 3 (ipykernel)",
   "language": "python",
   "name": "python3"
  },
  "language_info": {
   "codemirror_mode": {
    "name": "ipython",
    "version": 3
   },
   "file_extension": ".py",
   "mimetype": "text/x-python",
   "name": "python",
   "nbconvert_exporter": "python",
   "pygments_lexer": "ipython3",
   "version": "3.12.4"
  }
 },
 "nbformat": 4,
 "nbformat_minor": 5
}
