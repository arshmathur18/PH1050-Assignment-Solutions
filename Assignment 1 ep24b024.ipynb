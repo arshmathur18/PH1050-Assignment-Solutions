{
 "cells": [
  {
   "cell_type": "code",
   "execution_count": 1,
   "id": "601ed082-01ed-47a5-907c-06d78d41eb8f",
   "metadata": {},
   "outputs": [
    {
     "name": "stdin",
     "output_type": "stream",
     "text": [
      "Enter a value in radians 5\n"
     ]
    },
    {
     "name": "stdout",
     "output_type": "stream",
     "text": [
      "286.624203821656\n"
     ]
    }
   ],
   "source": [
    "#Question1 Write a Python function that converts the radians into degrees and returns the value in degrees. The function should take one parameter, which is the angle in decimal.\n",
    "def radtodeg(x):\n",
    "    y = x*(180/3.14)\n",
    "    return y\n",
    "#Main\n",
    "x = float(input(\"Enter a value in radians\"))\n",
    "value = radtodeg(x)\n",
    "print (value)"
   ]
  },
  {
   "cell_type": "code",
   "execution_count": 20,
   "id": "dbc00383-c761-4b3d-8bbd-57399441d25e",
   "metadata": {},
   "outputs": [
    {
     "name": "stdin",
     "output_type": "stream",
     "text": [
      "enter a number 9\n"
     ]
    },
    {
     "name": "stdout",
     "output_type": "stream",
     "text": [
      "1001\n"
     ]
    }
   ],
   "source": [
    "#Question2 Write a Python function that converts a decimal number into its equivalent binary representation.\n",
    "def binary(x):\n",
    "    empty = '' #define an empty string\n",
    "    while x//2 !=0: #used while to run a loop, // is quotient --> while quotient is not equal to 0, run the function\n",
    "        rem = x%2  # % is used for remainder\n",
    "        rem = str(rem) #convert remainder into string so that it does not add algebrically\n",
    "        empty = rem + empty #put remainder + the output from the last runnning of the loop, e.g. 0 + 101 = 0101\n",
    "        x = x//2 # changes x to quotient when x is divided by 2 and runs the loop again\n",
    "    return \"1\" + empty #returns 1 + the string we created because in the last digit 0/2 will give 0 but that is wrong. \n",
    "\n",
    "a = int(input(\"enter a number\"))\n",
    "s = binary(a)\n",
    "print(s)"
   ]
  },
  {
   "cell_type": "code",
   "execution_count": 35,
   "id": "723ff293-bff0-4131-b3ba-589391f3bc24",
   "metadata": {},
   "outputs": [
    {
     "name": "stdin",
     "output_type": "stream",
     "text": [
      "Enter number 1 12\n",
      "Enter number 2 13\n",
      "Enter operator +\n"
     ]
    },
    {
     "name": "stdout",
     "output_type": "stream",
     "text": [
      "25\n"
     ]
    }
   ],
   "source": [
    "#Question3 Write a Python function that accepts three parameters. The first two parameters are two integers, and the the last parameter should be a mathematical operator plus or minus or multiply etc..\n",
    "\n",
    "def operation(x,y,operator):\n",
    "    if operator == \"+\": # == is used to define a condition\n",
    "        s = x+y\n",
    "    if operator == \"-\":\n",
    "        s = x-y\n",
    "    if operator == \"*\":\n",
    "        s = x*y\n",
    "    if operator == \"/\":\n",
    "        s = x/y\n",
    "    return s\n",
    "\n",
    "A = int(input(\"Enter number 1\"))\n",
    "B = int(input(\"Enter number 2\"))\n",
    "C = input(\"Enter operator\")\n",
    "S = operation(A,B,C)\n",
    "\n",
    "print(S)"
   ]
  },
  {
   "cell_type": "code",
   "execution_count": 36,
   "id": "3daf7615-178b-4a3c-89cc-aa63af97715d",
   "metadata": {},
   "outputs": [
    {
     "name": "stdin",
     "output_type": "stream",
     "text": [
      "Principal Amount 11\n",
      "Rate of Interest 11\n",
      "Time Period 11\n"
     ]
    },
    {
     "name": "stdout",
     "output_type": "stream",
     "text": [
      "13.31\n"
     ]
    }
   ],
   "source": [
    "#Question4 Write a Python Program for simple interest calculation. It will take three inputs: P is the prinWrite a function that accepts strings, and returns a string where each character is doubled in the original stringcipal amount T is the time and R is the rate, and returned the interest.\n",
    "def simpleinterest(x,y,z):\n",
    "    I = (x*y*z)/100\n",
    "    return I\n",
    "#Main\n",
    "P = float(input(\"Principal Amount\"))\n",
    "R = float(input(\"Rate of Interest\"))\n",
    "T = float(input(\"Time Period\"))\n",
    "Interest = simpleinterest(P,R,T)\n",
    "print (Interest)"
   ]
  },
  {
   "cell_type": "code",
   "execution_count": 9,
   "id": "49691cf4-e236-48cf-8668-49384a923265",
   "metadata": {},
   "outputs": [
    {
     "name": "stdin",
     "output_type": "stream",
     "text": [
      " pus\n"
     ]
    },
    {
     "name": "stdout",
     "output_type": "stream",
     "text": [
      "ppuuss\n"
     ]
    }
   ],
   "source": [
    "#Question5 Write a function that accepts strings, and returns a string where each character is doubled in the original string\n",
    "inp = input()\n",
    "a = []\n",
    "for i in range(len(inp)): #for loop : i (a variable) in the range of the length of the input (0-(n-1))\n",
    "    a.append(inp[i]*2) #append - adds to the list, in this case, list \"a\"\n",
    "print(''.join(a)) #removes single colons and join the elements of the list a. "
   ]
  },
  {
   "cell_type": "code",
   "execution_count": 2,
   "id": "822ad301-239a-4c48-a148-a318c273571f",
   "metadata": {
    "jp-MarkdownHeadingCollapsed": true
   },
   "outputs": [
    {
     "name": "stdin",
     "output_type": "stream",
     "text": [
      "number 7\n"
     ]
    },
    {
     "name": "stdout",
     "output_type": "stream",
     "text": [
      "5040\n"
     ]
    }
   ],
   "source": [
    "#Question6 Write a Python Program to Find the Factorial of a Number\n",
    "def f(n):    \n",
    "    num = 1\n",
    "    while(n>1):\n",
    "        num = num*n\n",
    "        n = n-1\n",
    "    return num\n",
    "    \n",
    "Input = int(input(\"number\"))\n",
    "S = f(Input)\n",
    "print(S)"
   ]
  },
  {
   "cell_type": "code",
   "execution_count": 71,
   "id": "9510898f-3045-4e33-bdd7-74285b130c6c",
   "metadata": {},
   "outputs": [
    {
     "name": "stdin",
     "output_type": "stream",
     "text": [
      "enter number 7\n"
     ]
    },
    {
     "name": "stdout",
     "output_type": "stream",
     "text": [
      "8\n"
     ]
    }
   ],
   "source": [
    "#Question7  Write Python Program to calculate n-th Fibonacci number Using recursion.\n",
    "\n",
    "#when creating codes for recursive relations, initialising is really important, otherwise the logic goes haywire and starts running in a loop. \n",
    "def g(x):\n",
    "        \n",
    "    if x == 1:\n",
    "        c = 0\n",
    "\n",
    "    elif x == 2:\n",
    "        c = 1\n",
    "\n",
    "    else:\n",
    "        c = g(x-1) + g(x-2)\n",
    "    return c\n",
    "\n",
    "Int = int(input(\"enter number\"))\n",
    "a = g(Int)\n",
    "print(a)\n",
    "    "
   ]
  },
  {
   "cell_type": "code",
   "execution_count": 5,
   "id": "478d03c2-05cb-4e9e-9240-7a49e6e63ba0",
   "metadata": {},
   "outputs": [
    {
     "name": "stdin",
     "output_type": "stream",
     "text": [
      "enter number 7\n"
     ]
    },
    {
     "name": "stdout",
     "output_type": "stream",
     "text": [
      "111\n"
     ]
    }
   ],
   "source": [
    "#binary representation program\n",
    "def binary(x):\n",
    "    empty = ''\n",
    "    while x//2 != 0:\n",
    "        rem = x%2 \n",
    "        rem = str(rem)\n",
    "        empty = rem + empty \n",
    "        x = x//2\n",
    "    return \"1\" + empty\n",
    "    \n",
    "n = int(input(\"enter number\"))\n",
    "k = binary(n)\n",
    "print(k)"
   ]
  },
  {
   "cell_type": "code",
   "execution_count": null,
   "id": "ff52c552-cd67-4683-a9cc-a023b2b13cab",
   "metadata": {},
   "outputs": [],
   "source": []
  }
 ],
 "metadata": {
  "kernelspec": {
   "display_name": "Python 3 (ipykernel)",
   "language": "python",
   "name": "python3"
  },
  "language_info": {
   "codemirror_mode": {
    "name": "ipython",
    "version": 3
   },
   "file_extension": ".py",
   "mimetype": "text/x-python",
   "name": "python",
   "nbconvert_exporter": "python",
   "pygments_lexer": "ipython3",
   "version": "3.12.4"
  }
 },
 "nbformat": 4,
 "nbformat_minor": 5
}
